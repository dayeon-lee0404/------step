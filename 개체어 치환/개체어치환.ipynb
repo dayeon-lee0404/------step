{
 "cells": [
  {
   "cell_type": "code",
   "execution_count": 1,
   "metadata": {},
   "outputs": [],
   "source": [
    "#개체어와 한국어 정보 담은 딕셔너리 제작 \n",
    "tag_to_kor = {\"AF_BUILDING\" : \"[건축물및운동장]\",\n",
    "\"AF_CULTURAL_ASSET\" : \"[인공문화재]\",\n",
    "\"AF_MUSICAL_INSTRUMENT\" : \"[악기]\",\n",
    "\"AF_ROAD\" : \"[도로및철로]\",\n",
    "\"AF_TRANSPORT\" : \"[교통수단]\",\n",
    "\"AF_WARES\" : \"[상품및제품]\",\n",
    "\"AF_WEAPON\" : \"[무기]\",\n",
    "\"AFW_DOCUMENT\" :\"[서적및문학작품]\",\n",
    "\"AFW_MUSIC\":\"[음악작품]\",\n",
    "\"AFW_PERFORMANCE\":\"[공연작품]\",\n",
    "\"AFW_VIDEO\" :\"[영화및TV프로]\",\n",
    "\"AM_AMPHIBIA\" :\"[양서류]\",\n",
    "\"AM_BIRD\" :\"[조류]\",\n",
    "\"AM_FISH\" :\"[어류]\",\n",
    "\"AM_INSECT\" :\"[곤충]\",\n",
    "\"AM_MAMMALIA\" :\"[포유류]\",\n",
    "\"AM_OTHERS\" :\"[기타동물명칭]\",\n",
    "\"AM_PART\" :\"[신체부위]\",\n",
    "\"AM_REPTILIA\" :\"[파충류]\",\n",
    "\"AM_TYPE\" :\"[동물분류]\",\n",
    "\"CL_TOUR\" :\"[?]\",\n",
    "\"CV_BUILDING_TYPE\" :\"[건축양식]\",\n",
    "\"CV_CLOTHING\" :\"[의복및섬유]\",\n",
    "\"CV_CURRENCY\" :\"[통화명칭]\",\n",
    "\"CV_DRINK\" :\"[음료및술]\",\n",
    "\"CV_FOOD\" :\"[음식및재료명칭]\",\n",
    "\"CV_FOOD_STYLE\" :\"[음식종류]\",\n",
    "\"CV_FUNDS\" :\"[연금등펀드명칭]\",\n",
    "\"CV_LANGUAGE\" :\"[언어명칭]\",\n",
    "\"CV_LAW\" :\"[법]\",\n",
    "\"CV_NAME\" :\"[문명및문화]\",\n",
    "\"CV_OCCUPATION\" :\"[직업]\",\n",
    "\"CV_POLICY\" :\"[제도및정책]\",\n",
    "\"CV_POSITION\" :\"[직위및직책]\",\n",
    "\"CV_PRIZE\" :\"[상및훈장]\",\n",
    "\"CV_RELATION\" :\"[인간관계명칭]\",\n",
    "\"CV_SPORTS\" :\"[스포츠]\",\n",
    "\"CV_SPORTS_INST\" :\"[스포츠용품]\",\n",
    "\"CV_TAX\" :\"[조세]\",\n",
    "\"CV_TRIBE\" :\"[민족및종족]\",\n",
    "\"DT_DAY\" :\"[날짜및절기]\",\n",
    "\"DT_DURATION\" :\"[기간]\",\n",
    "\"DT_DYNASTY\" :\"[왕조시대]\",\n",
    "\"DT_GEOAGE\" :\"[지질시대]\",\n",
    "\"DT_MONTH\" :\"[달]\",\n",
    "\"DT_OTHERS\" :\"[기타날짜]\",\n",
    "\"DT_SEASON\" :\"[계절]\",\n",
    "\"DT_YEAR\" :\"[년도]\",\n",
    "\"EV_ACTIVITY\" :\"[사회운동및선언]\",\n",
    "\"EV_FESTIVAL\" :\"[축제]\",\n",
    "\"EV_OTHERS\" :\"[기타사건및사태]\",\n",
    "\"EV_SPORTS\" :\"[스포츠행사]\",\n",
    "\"EV_WAR_REVOLUTION\" :\"[전쟁및혁명]\",\n",
    "\"FD_ART\" :\"[예술학문]\",\n",
    "\"FD_MEDICINE\" :\"[의학학문]\",\n",
    "\"FD_PHILOSOPHY\" :\"[철학학문]\",\n",
    "\"FD_SCIENCE\" :\"[과학학문]\",\n",
    "\"FD_SOCIAL_SCIENCE\" :\"[사회과학학문]\",\n",
    "\"LC_OTHERS\" :\"[기타장소]\",\n",
    "\"LC_SPACE\" :\"[천체]\",\n",
    "\"LC_TOUR\" :\"[관광명소]\",\n",
    "\"LCG_BAY\" :\"[반도,만]\",\n",
    "\"LCG_CONTINENT\" :\"[대륙]\",\n",
    "\"LCG_ISLAND\" :\"[섬]\",\n",
    "\"LCG_MOUNTAIN\" :\"[산]\",\n",
    "\"LCG_OCEAN\" :\"[바다]\",\n",
    "\"LCG_RIVER\" :\"[강,호수,연못]\",\n",
    "\"LCP_CAPITALCITY\" :\"[수도]\",\n",
    "\"LCP_CITY\" :\"[도시]\",\n",
    "\"LCP_COUNTRY\" :\"[도시]\",\n",
    "\"LCP_COUNTY\" :\"[군,면,동 세부행정명]\",\n",
    "\"LCP_PROVINCE\" :\"[도, 주 지역명]\",\n",
    "\"MT_CHEMICAL\" :\"[화학물질]\",\n",
    "\"MT_ELEMENT\" :\"[원소]\",\n",
    "\"MT_METAL\" :\"[금속물]\",\n",
    "\"MT_ROCK\" :\"[암석]\",\n",
    "\"OG_OTHERS\" :\"[기타기관및단체]\",\n",
    "\"OGG_ART\" :\"[예술기관및단체]\",\n",
    "\"OGG_ECONOMY\" :\"[경제기관및 기업]\",\n",
    "\"OGG_EDUCATION\" :\"[교육기관]\",\n",
    "\"OGG_FOOD\" :\"[음식업체]\",\n",
    "\"OGG_HOTEL\" :\"[숙박업체]\",\n",
    "\"OGG_LAW\" :\"[법률기관]\",\n",
    "\"OGG_MEDIA\" :\"[미디어방송기관]\",\n",
    "\"OGG_MEDICINE\" :\"[의료기관]\",\n",
    "\"OGG_MILITARY\" :\"[군사기관]\",\n",
    "\"OGG_OTHERS\" :\"[기타기관]\",\n",
    "\"OGG_POLITICS\" :\"[정부,공공기관,정치기관]\",\n",
    "\"OGG_RELIGION\" :\"[종교기관및종파]\",\n",
    "\"OGG_SCIENCE\" :\"[과학기관]\",\n",
    "\"OGG_SPORTS\" :\"[스포츠기관]\",\n",
    "\"PS_NAME\" :\"[사람이름]\",\n",
    "\"PT_FLOWER\" :\"[꽃]\",\n",
    "\"PT_FRUIT\" :\"[과일]\",\n",
    "\"PT_GRASS\" :\"[풀]\",\n",
    "\"PT_OTHERS\" :\"[기타식물]\",\n",
    "\"PT_PART\" :\"[식물한부분]\",\n",
    "\"PT_TREE\" :\"[나무]\",\n",
    "\"PT_TYPE\" :\"[식물유형]\",\n",
    "'QT_AGE' :\"[나이]\",\n",
    "\"QT_ALBUM\" :\"[앨범수량]\",\n",
    "\"QT_CHANNEL\" :\"[TV/라디오 채널]\",\n",
    "\"QT_COUNT\" :\"[개수/빈도]\",\n",
    "\"QT_LENGTH\" :\"[길이/거리/높이]\",\n",
    "\"QT_MAN_COUNT\" :\"[인원수]\",\n",
    "\"QT_ORDER\" :\"[순서]\",\n",
    "\"QT_OTHERS\" :\"[기타수량]\",\n",
    "\"QT_PERCENTAGE\" :\"[백분율및농도]\",\n",
    "\"QT_PHONE\" :\"[전화번호]\",\n",
    "\"QT_PRICE\" :\"[금액]\",\n",
    "\"QT_SIZE\" :\"[크기및넓이]\",\n",
    "\"QT_SPEED\" :\"[속도]\",\n",
    "\"QT_SPORTS\" :\"[스포츠관련수량]\",\n",
    "\"QT_TEMPERATURE\" :\"[온도]\",\n",
    "\"QT_VOLUME\" :\"[부피]\",\n",
    "\"QT_WEIGHT\" :\"[무게]\",\n",
    "\"TI_DURATION\" :\"[기간]\",\n",
    "\"TI_HOUR\" :\"[시각]\",\n",
    "\"TI_OTHERS\" :\"[기타시간]\",\n",
    "\"TI_SECOND\" :\"[초]\",\n",
    "\"TM_CELL_TISSSUE\" :\"[세포/조직/기관]\",\n",
    "\"TM_CELL_TISSUE\" :\"[세포/조직/기관]\",\n",
    "\"TM_CLIMATE\" :\"[기후지역]\",\n",
    "\"TM_COLOR\" :\"[색]\",\n",
    "\"TM_DIRECTION\" :\"[방향]\",\n",
    "\"TM_SHAPE\" :\"[모양및형태]\",\n",
    "\"TM_SPORTS\" :\"[스포츠용어]\",\n",
    "\"TMI_DISEASE\" :\"[질병및증상]\",\n",
    "\"TMI_HW\" :\"[IT하드웨어]\",\n",
    "\"TMI_MODEL\" :\"[세부모델명]\",\n",
    "\"TMI_PROJECT\" :\"[프로젝트명]\",\n",
    "\"TMI_SERVICE\" :\"[IT서비스]\",\n",
    "\"TMI_SW\" :\"[IT소프트웨어]\",\n",
    "\"TMIG_GENRE\" :\"[게임장르]\",\n",
    "\"TMM_DISEASE\" :\"[질병및증상]\",\n",
    "\"TMM_DRUG\" :\"[약품]\",\n",
    "\"TR_ART\" :\"[예술법칙/양식]\",\n",
    "\"TR_MEDICINE\" :\"[처방및의학진단법]\",\n",
    "\"TR_OTHERS\" :\"[기타이론및법칙]\",\n",
    "\"TR_PHILOSOPHY\" :\"[철학이론및사상]\",\n",
    "\"TR_SCIENCE\" :\"[과학이론/법칙/양식/학설]\",\n",
    "\"TR_SOCIAL_SCIENCE\" :\"[사회과학 이론/법칙/학설]\",\n",
    "}"
   ]
  },
  {
   "cell_type": "code",
   "execution_count": 2,
   "metadata": {},
   "outputs": [],
   "source": [
    "#개체어 인식기 사용 준비 \n",
    "import json\n",
    "import urllib3\n",
    "from tqdm.notebook import tqdm\n",
    "\n",
    "f = open('데이터 전처리/차별 문장_전처리 완료.txt')\n",
    "lines = f.readlines()\n",
    "\n",
    "text = \"\"\n",
    "for i in lines:\n",
    "    text += i\n",
    "\n",
    "sentences = []\n",
    "n = 5000\n",
    "for i in range(8):\n",
    "    sentences.append(lines[n-5000:n])\n",
    "    n += 5000"
   ]
  },
  {
   "cell_type": "code",
   "execution_count": 28,
   "metadata": {},
   "outputs": [],
   "source": [
    "f = open('개체어치환 텍스트.txt')\n",
    "l = f.readlines()\n"
   ]
  },
  {
   "cell_type": "code",
   "execution_count": 3,
   "metadata": {},
   "outputs": [],
   "source": [
    "accessKey1 = \"187ccfc4-638a-4a6c-b1ec-8aeabd1b4a06\" # 5개 사용 - sentence[5] 완료\n",
    "accessKey2 = \"37cdd2da-8145-47be-ac46-caae6b04fdcc\" # sentence[6]진행\n",
    "accesskey3 = \"dfee4798-aa0e-4a1a-b253-85d01c291ad7\"\t#\n",
    "accessKey4 = \"945a985e-51a8-4e74-b1c4-fe4a1c130edc\" #\n",
    "accessKey5 = \"37a3a626-f22f-4e85-bf20-fcc7bcfc61d3\" #\n",
    "accessKey5 = \"6bb2897a-5f54-445d-9365-29fbfa60e2e0\" #\n",
    "accesskey6 = \"4f8b112c-cd7a-430b-b3e2-a0209d41a72f\" #[6] 시도하기"
   ]
  },
  {
   "cell_type": "code",
   "execution_count": 29,
   "metadata": {},
   "outputs": [
    {
     "name": "stdout",
     "output_type": "stream",
     "text": [
      "36357 36355\n"
     ]
    }
   ],
   "source": [
    "print(len(lines),len(l))"
   ]
  },
  {
   "cell_type": "code",
   "execution_count": 18,
   "metadata": {},
   "outputs": [
    {
     "data": {
      "application/vnd.jupyter.widget-view+json": {
       "model_id": "63f37885cb9b498d99eddbc81b777117",
       "version_major": 2,
       "version_minor": 0
      },
      "text/plain": [
       "  0%|          | 0/1357 [00:00<?, ?it/s]"
      ]
     },
     "metadata": {},
     "output_type": "display_data"
    }
   ],
   "source": [
    "#개체어 치환 텍스트 문장 만들기 - 5000문장 제한이 있고, 한 댓글 당 문장이 2개 이상인 경우가 있어, 어쩔 수 없이 약 37000개의 문장을 5000개씩 끊어서 송신해야함.\n",
    "openApiURL = \"http://aiopen.etri.re.kr:8000/WiseNLU_spoken\"    \n",
    "accessKey = \"187ccfc4-638a-4a6c-b1ec-8aeabd1b4a06\"\n",
    "analysisCode = \"ner\"\n",
    "\n",
    "#개체어 치환 완료된 문장이 들어갈 리스트\n",
    "changed_text = []\n",
    "#개체어 치환 - sentence[0~7], 8번 실행시키기\n",
    "for i in tqdm(sentences[7]) :     \n",
    "    requestJson = {  \n",
    "        \"argument\": {\n",
    "            \"text\": i,\n",
    "            \"analysis_code\": analysisCode\n",
    "        }\n",
    "    }\n",
    "        \n",
    "    http = urllib3.PoolManager()\n",
    "    response = http.request(\n",
    "        \"POST\",\n",
    "        openApiURL,\n",
    "        headers={\"Content-Type\": \"application/json; charset=UTF-8\", \"Authorization\" :  accessKey},\n",
    "        body=json.dumps(requestJson)\n",
    "    )\n",
    "\n",
    "    fine = json.loads(response.data)\n",
    "    step1 = fine['return_object']['sentence']\n",
    "    \n",
    "    t =\"\"\n",
    "    for i in step1:    \n",
    "        ne= i['NE']\n",
    "        sen = i['text']\n",
    "        words = []\n",
    "        tags = [] \n",
    "        for j in ne: \n",
    "            words.append(j['text'])    \n",
    "            tags.append(j['type'])\n",
    "\n",
    "        if words != []:\n",
    "            for k in words:\n",
    "                if k in sen:\n",
    "                    index = words.index(k)\n",
    "                    kor = tag_to_kor[tags[index]]\n",
    "                    new = sen.replace(k,kor)\n",
    "                    sen = new\n",
    "            t += new\n",
    "        else :\n",
    "            t += i['text']\n",
    "    changed_text.append(t)"
   ]
  },
  {
   "cell_type": "code",
   "execution_count": 19,
   "metadata": {},
   "outputs": [
    {
     "data": {
      "text/plain": [
       "['[사람이름] 피싸개 죽인 건 칭찬받을 일이지.',\n",
       " '[영화및TV프로] [사람이름]는 [직위및직책]분해가 답이야.',\n",
       " '[개수/빈도] 피하려다 중꿔 만나는 건 최악이지.',\n",
       " '[도시] 피해다니는 거 가지고 왜 왕따래?',\n",
       " '[어류] [개수/빈도] 착해졌네.',\n",
       " '[영화및TV프로] psg 공화국에선 남자만 청소해야 하노',\n",
       " '[영화및TV프로], [음식및재료명칭]하는 놈들도 마찬가지야.',\n",
       " '[사람이름]가 곧 북괴고 짱깨인 거지.',\n",
       " '[사람이름]가 그렇지 자기 애를 대신 혼내기 해줘 시전ㅋㅋㅋ',\n",
       " '[사람이름]가 다 뷰지대주는데 왜 안옴?']"
      ]
     },
     "execution_count": 19,
     "metadata": {},
     "output_type": "execute_result"
    }
   ],
   "source": [
    "changed_text[:10]"
   ]
  },
  {
   "cell_type": "code",
   "execution_count": 22,
   "metadata": {},
   "outputs": [
    {
     "data": {
      "text/plain": [
       "1357"
      ]
     },
     "execution_count": 22,
     "metadata": {},
     "output_type": "execute_result"
    }
   ],
   "source": [
    "len(changed_text)"
   ]
  },
  {
   "cell_type": "code",
   "execution_count": 23,
   "metadata": {},
   "outputs": [],
   "source": [
    "#개체어치환 파일에 저장, 앞으로 add 모드로 추가하기 'a'\n",
    "f = open('개체어치환 텍스트.txt','a')\n",
    "for i in changed_text:\n",
    "    f.write(i+'\\n')\n",
    "f.close()"
   ]
  },
  {
   "cell_type": "code",
   "execution_count": null,
   "metadata": {},
   "outputs": [],
   "source": []
  }
 ],
 "metadata": {
  "kernelspec": {
   "display_name": "Python 3",
   "language": "python",
   "name": "python3"
  },
  "language_info": {
   "codemirror_mode": {
    "name": "ipython",
    "version": 3
   },
   "file_extension": ".py",
   "mimetype": "text/x-python",
   "name": "python",
   "nbconvert_exporter": "python",
   "pygments_lexer": "ipython3",
   "version": "3.9.13"
  },
  "orig_nbformat": 4,
  "vscode": {
   "interpreter": {
    "hash": "b733b73d7d6d76c6a583195fffde7d15920d8bfb4832083bd204139a0e6d80a1"
   }
  }
 },
 "nbformat": 4,
 "nbformat_minor": 2
}
